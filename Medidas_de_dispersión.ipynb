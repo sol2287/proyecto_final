{
  "nbformat": 4,
  "nbformat_minor": 0,
  "metadata": {
    "colab": {
      "provenance": [],
      "mount_file_id": "1e0q06ynQeeRfmX8OZSxxUpDwUh_X0LA5",
      "authorship_tag": "ABX9TyPwUQ++ouEAzOwaqVqirfsS",
      "include_colab_link": true
    },
    "kernelspec": {
      "name": "python3",
      "display_name": "Python 3"
    },
    "language_info": {
      "name": "python"
    }
  },
  "cells": [
    {
      "cell_type": "markdown",
      "metadata": {
        "id": "view-in-github",
        "colab_type": "text"
      },
      "source": [
        "<a href=\"https://colab.research.google.com/github/sol2287/proyecto_final/blob/main/Medidas_de_dispersi%C3%B3n.ipynb\" target=\"_parent\"><img src=\"https://colab.research.google.com/assets/colab-badge.svg\" alt=\"Open In Colab\"/></a>"
      ]
    },
    {
      "cell_type": "code",
      "execution_count": null,
      "metadata": {
        "colab": {
          "base_uri": "https://localhost:8080/"
        },
        "id": "BowFIJyskma_",
        "outputId": "7753637e-301e-43a8-a1cb-c16a67b2d025"
      },
      "outputs": [
        {
          "output_type": "stream",
          "name": "stdout",
          "text": [
            "Datos de las películas:\n",
            "    Peliculas  Precios\n",
            "0  Película A      150\n",
            "1  Película B      250\n",
            "2  Película C      375\n",
            "3  Película D      450\n",
            "4  Película E      500\n",
            "\n",
            "Desviación estándar: 144.04860290887933\n",
            "Rango de precios: 350\n"
          ]
        }
      ],
      "source": [
        "import pandas as pd\n",
        "\n",
        "# Datos de peliculas\n",
        "data = pd.DataFrame({\n",
        "    'Peliculas': ['Película A', 'Película B', 'Película C', 'Película D', 'Película E'],\n",
        "    'Precios': [150, 250, 375, 450, 500]\n",
        "})\n",
        "\n",
        "# Desviación estándar y rango\n",
        "std_dev = data['Precios'].std()\n",
        "price_range = data['Precios'].max() - data['Precios'].min()\n",
        "\n",
        "print(\"Datos de las películas:\")\n",
        "print(data)\n",
        "print(\"\\nDesviación estándar:\", std_dev)\n",
        "print(\"Rango de precios:\", price_range)"
      ]
    }
  ]
}