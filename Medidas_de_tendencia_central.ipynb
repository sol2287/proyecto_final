{
  "nbformat": 4,
  "nbformat_minor": 0,
  "metadata": {
    "colab": {
      "provenance": [],
      "authorship_tag": "ABX9TyPHP/Oq9t2F7fSyV+JlDzg+",
      "include_colab_link": true
    },
    "kernelspec": {
      "name": "python3",
      "display_name": "Python 3"
    },
    "language_info": {
      "name": "python"
    }
  },
  "cells": [
    {
      "cell_type": "markdown",
      "metadata": {
        "id": "view-in-github",
        "colab_type": "text"
      },
      "source": [
        "<a href=\"https://colab.research.google.com/github/sol2287/proyecto_final/blob/main/Medidas_de_tendencia_central.ipynb\" target=\"_parent\"><img src=\"https://colab.research.google.com/assets/colab-badge.svg\" alt=\"Open In Colab\"/></a>"
      ]
    },
    {
      "cell_type": "code",
      "execution_count": null,
      "metadata": {
        "id": "qDWiaAA0jReN",
        "outputId": "6a3d6818-0660-4bd8-ee37-f3c996159f81",
        "colab": {
          "base_uri": "https://localhost:8080/"
        }
      },
      "outputs": [
        {
          "output_type": "stream",
          "name": "stdout",
          "text": [
            "Listado de aceites y sus precios:\n",
            "                   Aceites  Precio (pesos)\n",
            "0  Aceite de Oliva (500ml)             120\n",
            "1   Aceite de Girasol (1L)              80\n",
            "2   Aceite de Coco (500ml)             150\n",
            "3    Aceite de Canola (1L)              90\n",
            "\n",
            "Resultados de los precios:\n",
            "Media: 110.00 pesos\n",
            "Mediana: 105.00 pesos\n",
            "Moda: 80.00 pesos\n"
          ]
        }
      ],
      "source": [
        "import numpy as np\n",
        "import pandas as pd\n",
        "from scipy import stats\n",
        "\n",
        "# Lista de aceites con sus precios\n",
        "aceites = [\n",
        "    \"Aceite de Oliva (500ml)\",\n",
        "    \"Aceite de Girasol (1L)\",\n",
        "    \"Aceite de Coco (500ml)\",\n",
        "    \"Aceite de Canola (1L)\"\n",
        "]\n",
        "\n",
        "precios_pesos = [\n",
        "    120, 80, 150, 90\n",
        "]\n",
        "\n",
        "# Crear DataFrame con los aceites y sus precios\n",
        "df = pd.DataFrame({'Aceites': aceites, 'Precio (pesos)': precios_pesos})\n",
        "\n",
        "# Calcular la media, mediana y moda de los precios\n",
        "media = df['Precio (pesos)'].mean()\n",
        "mediana = df['Precio (pesos)'].median()\n",
        "moda = stats.mode(df['Precio (pesos)'], keepdims=True)\n",
        "moda_valor = moda.mode[0]\n",
        "\n",
        "# Mostrar los resultados\n",
        "print(f\"Listado de aceites y sus precios:\\n{df}\\n\")\n",
        "print(f\"Resultados de los precios:\\nMedia: {media:.2f} pesos\\nMediana: {mediana:.2f} pesos\\nModa: {moda_valor:.2f} pesos\")"
      ]
    }
  ]
}